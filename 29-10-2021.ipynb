{
 "cells": [
  {
   "cell_type": "markdown",
   "metadata": {},
   "source": [
    "#### Day Objectives:\n",
    "    - file Handling in python\n",
    "        - file:\n",
    "            - it contains collection of information\n",
    "        - steps in file handling:\n",
    "                - open a file\n",
    "                    - open()- by using this function we can open                               our file\n",
    "                - doing an operation\n",
    "                      - read operation('r')\n",
    "                      - write operation('w')\n",
    "                      - append operation('a')\n",
    "                - types of modes in files:\n",
    "                        - read(r)\n",
    "                        - write(w)\n",
    "                        - append(a)\n",
    "         - syntax:\n",
    "             - open('file location','mode')\n",
    "                 - close a file\n",
    "                     - close()- by using this function we can                                      close our file\n",
    "   "
   ]
  },
  {
   "cell_type": "code",
   "execution_count": 40,
   "metadata": {},
   "outputs": [
    {
     "name": "stdout",
     "output_type": "stream",
     "text": [
      "file2.txthai..welcome guys\n",
      "\n"
     ]
    }
   ],
   "source": [
    "### read operation()\n",
    "f=open('file.txt')\n",
    "fh=f.read()\n",
    "print(fh)\n",
    "f.close()"
   ]
  },
  {
   "cell_type": "code",
   "execution_count": 41,
   "metadata": {},
   "outputs": [
    {
     "name": "stdout",
     "output_type": "stream",
     "text": [
      "file2.txthai..welcome guys\n",
      "\n"
     ]
    }
   ],
   "source": [
    "f=open('file.txt','r')\n",
    "fh=f.read()\n",
    "print(fh)\n",
    "f.close()"
   ]
  },
  {
   "cell_type": "markdown",
   "metadata": {},
   "source": [
    "## withopen('file location','mode')\n",
    "    - here we dont want to close a file"
   ]
  },
  {
   "cell_type": "code",
   "execution_count": 43,
   "metadata": {},
   "outputs": [
    {
     "name": "stdout",
     "output_type": "stream",
     "text": [
      "file2.txthai..welcome guys\n",
      "\n"
     ]
    }
   ],
   "source": [
    "with open('file.txt','r') as f:\n",
    "    fh=f.read()\n",
    "    print(fh)\n",
    "    "
   ]
  },
  {
   "cell_type": "code",
   "execution_count": 44,
   "metadata": {},
   "outputs": [
    {
     "name": "stdout",
     "output_type": "stream",
     "text": [
      "25\n"
     ]
    }
   ],
   "source": [
    "## write mode()\n",
    "f=open('file.txt','w')\n",
    "fh=f.write(\"apssdc engineering portal\")\n",
    "print(fh)\n",
    "f.close()"
   ]
  },
  {
   "cell_type": "code",
   "execution_count": 45,
   "metadata": {},
   "outputs": [
    {
     "name": "stdout",
     "output_type": "stream",
     "text": [
      "apssdc engineering portal\n"
     ]
    }
   ],
   "source": [
    "def ReadaFile(filelocation):\n",
    "    with open(filelocation,'r') as f:\n",
    "        fh=f.read()\n",
    "        print(fh)\n",
    "filelocation='file.txt'\n",
    "ReadaFile(filelocation)"
   ]
  },
  {
   "cell_type": "code",
   "execution_count": 46,
   "metadata": {},
   "outputs": [
    {
     "name": "stdout",
     "output_type": "stream",
     "text": [
      "apssdc engineering portal"
     ]
    }
   ],
   "source": [
    "def ReadaFile(filelocation):\n",
    "    with open(filelocation,'r') as f:\n",
    "        fh=f.read()\n",
    "        for i in fh:\n",
    "            print(i,end=\"\")\n",
    "filelocation='file.txt'\n",
    "ReadaFile(filelocation)"
   ]
  },
  {
   "cell_type": "code",
   "execution_count": 47,
   "metadata": {},
   "outputs": [
    {
     "name": "stdout",
     "output_type": "stream",
     "text": [
      "27\n"
     ]
    }
   ],
   "source": [
    "def WriteFile(filelocation):\n",
    "    with open(filelocation,'w') as f:\n",
    "        fh=f.write('hai..helloo..good morning \\n')\n",
    "        print(fh)\n",
    "filelocation='file.txt'\n",
    "WriteFile(filelocation)"
   ]
  },
  {
   "cell_type": "code",
   "execution_count": 48,
   "metadata": {},
   "outputs": [
    {
     "name": "stdout",
     "output_type": "stream",
     "text": [
      "18\n"
     ]
    }
   ],
   "source": [
    "### append()\n",
    "def AppendFile(filelocation):\n",
    "    with open(filelocation,'a') as f:\n",
    "        fh=f.write('hai..welcome guys\\n')\n",
    "        print(fh)\n",
    "filelocation='file.txt'\n",
    "AppendFile(filelocation)\n",
    "\n"
   ]
  },
  {
   "cell_type": "markdown",
   "metadata": {},
   "source": [
    "### file methods\n",
    "    - tell()\n",
    "    - seek()\n",
    "    - split()\n",
    "    - readline()\n",
    "    - readlines()"
   ]
  },
  {
   "cell_type": "code",
   "execution_count": 49,
   "metadata": {},
   "outputs": [
    {
     "name": "stdout",
     "output_type": "stream",
     "text": [
      "47\n"
     ]
    }
   ],
   "source": [
    "## tell()- cursor position\n",
    "with open('file.txt','r') as f:\n",
    "    f.read()\n",
    "    print(f.tell())\n",
    "    "
   ]
  },
  {
   "cell_type": "code",
   "execution_count": 50,
   "metadata": {},
   "outputs": [
    {
     "name": "stdout",
     "output_type": "stream",
     "text": [
      "o..good morning \n",
      "hai\n"
     ]
    }
   ],
   "source": [
    "## seek()\n",
    "with open('file.txt','r') as f:\n",
    "    f.read()\n",
    "    f.seek(10)  # data reading is starts from 3rd position\n",
    "    print(f.read(20))"
   ]
  },
  {
   "cell_type": "code",
   "execution_count": 51,
   "metadata": {},
   "outputs": [
    {
     "name": "stdout",
     "output_type": "stream",
     "text": [
      "['hai..helloo..good', 'morning', 'hai..welcome', 'guys']\n"
     ]
    }
   ],
   "source": [
    "### split()\n",
    "with open('file.txt','r') as f:\n",
    "    fh=f.read()\n",
    "    d=fh.split()\n",
    "    print(d)"
   ]
  },
  {
   "cell_type": "code",
   "execution_count": 52,
   "metadata": {},
   "outputs": [
    {
     "name": "stdout",
     "output_type": "stream",
     "text": [
      "hai..helloo..good morning \n",
      "\n"
     ]
    }
   ],
   "source": [
    "### readline()\n",
    "with open('file.txt','r') as f:\n",
    "    fh=f.readline()\n",
    "    print(fh)\n",
    "    "
   ]
  },
  {
   "cell_type": "code",
   "execution_count": 53,
   "metadata": {},
   "outputs": [
    {
     "name": "stdout",
     "output_type": "stream",
     "text": [
      "['hai..helloo..good morning \\n', 'hai..welcome guys\\n']\n"
     ]
    }
   ],
   "source": [
    "### readlines()\n",
    "with open('file.txt','r') as f:\n",
    "    fh=f.readlines()\n",
    "    print(fh)\n"
   ]
  },
  {
   "cell_type": "code",
   "execution_count": 54,
   "metadata": {},
   "outputs": [
    {
     "name": "stdout",
     "output_type": "stream",
     "text": [
      "2\n"
     ]
    }
   ],
   "source": [
    "## lines count\n",
    "with open('file.txt','r') as f:\n",
    "    fh=f.readlines()\n",
    "    print(len(fh))"
   ]
  },
  {
   "cell_type": "code",
   "execution_count": 56,
   "metadata": {},
   "outputs": [
    {
     "name": "stdout",
     "output_type": "stream",
     "text": [
      "45\n"
     ]
    }
   ],
   "source": [
    "## character count\n",
    "with open('file.txt','r') as f:\n",
    "    fh= f.read()\n",
    "    count=0\n",
    "    for i in fh:\n",
    "        count=count+1\n",
    "    print(count)"
   ]
  },
  {
   "cell_type": "code",
   "execution_count": 57,
   "metadata": {},
   "outputs": [
    {
     "name": "stdout",
     "output_type": "stream",
     "text": [
      "2\n"
     ]
    }
   ],
   "source": [
    "### line count\n",
    "with open('file.txt','r') as f:\n",
    "    count=0\n",
    "    for i in f:\n",
    "        count=count+1\n",
    "    print(count)"
   ]
  },
  {
   "cell_type": "code",
   "execution_count": 58,
   "metadata": {},
   "outputs": [
    {
     "name": "stdout",
     "output_type": "stream",
     "text": [
      "2\n"
     ]
    }
   ],
   "source": [
    "with open('file.txt','r') as f:\n",
    "    fh=f.readlines()\n",
    "    count=0\n",
    "    for i in fh:\n",
    "        count=count+1\n",
    "    print(count)"
   ]
  },
  {
   "cell_type": "code",
   "execution_count": null,
   "metadata": {},
   "outputs": [],
   "source": [
    "### word count"
   ]
  },
  {
   "cell_type": "code",
   "execution_count": 60,
   "metadata": {},
   "outputs": [
    {
     "name": "stdout",
     "output_type": "stream",
     "text": [
      "2\n"
     ]
    }
   ],
   "source": [
    "f=open('files/new3.txt','w')\n",
    "fh=f.write(\"hi\")\n",
    "print(fh)\n",
    "f.close()"
   ]
  },
  {
   "cell_type": "markdown",
   "metadata": {},
   "source": [
    "##### Functional Programming\n",
    "    - List Comprehension\n",
    "    - iterators\n",
    "    - Generators\n",
    "    - map()\n",
    "    - filter()\n",
    "    - lambda()"
   ]
  },
  {
   "cell_type": "code",
   "execution_count": null,
   "metadata": {},
   "outputs": [],
   "source": [
    "### List Comprehension\n",
    "    - The output will be dispaly in the form list\n",
    "    - we can compress the code\n",
    "    "
   ]
  },
  {
   "cell_type": "code",
   "execution_count": 64,
   "metadata": {},
   "outputs": [
    {
     "name": "stdout",
     "output_type": "stream",
     "text": [
      "[1, 2, 3, 4, 5, 6, 7, 8, 9]\n"
     ]
    }
   ],
   "source": [
    "### sample example\n",
    "l=[]\n",
    "for i in range(1,10):\n",
    "    l.append(i)\n",
    "print(l)"
   ]
  },
  {
   "cell_type": "code",
   "execution_count": 65,
   "metadata": {},
   "outputs": [
    {
     "name": "stdout",
     "output_type": "stream",
     "text": [
      "[1, 2, 3, 4, 5, 6, 7, 8, 9]\n"
     ]
    }
   ],
   "source": [
    "### by using lc\n",
    "l=[ i for i in range(1,10)]\n",
    "print(l)"
   ]
  },
  {
   "cell_type": "code",
   "execution_count": 69,
   "metadata": {},
   "outputs": [
    {
     "name": "stdout",
     "output_type": "stream",
     "text": [
      "[4, 16, 36, 64]\n"
     ]
    }
   ],
   "source": [
    "## even number range by using lc\n",
    "l=[ i**2 for i in range(1,10) if i%2==0]\n",
    "print(l)"
   ]
  },
  {
   "cell_type": "code",
   "execution_count": 70,
   "metadata": {},
   "outputs": [
    {
     "name": "stdout",
     "output_type": "stream",
     "text": [
      "[1, 27, 125, 343, 729]\n"
     ]
    }
   ],
   "source": [
    "### odd numbers by using lc\n",
    "l=[ i**3 for i in range(1,10) if i%2!=0]\n",
    "print(l)"
   ]
  },
  {
   "cell_type": "code",
   "execution_count": 72,
   "metadata": {},
   "outputs": [
    {
     "name": "stdout",
     "output_type": "stream",
     "text": [
      "[2000, 2004, 2008, 2012, 2016, 2020, 2024, 2028]\n"
     ]
    }
   ],
   "source": [
    "## leap year range by using lc\n",
    "\n",
    "l=[i for i in range(2000,2030) if (i%4==0 and i%100!=0) or (i%400==0)]\n",
    "print(l)"
   ]
  },
  {
   "cell_type": "code",
   "execution_count": 1,
   "metadata": {},
   "outputs": [
    {
     "name": "stdout",
     "output_type": "stream",
     "text": [
      "['hi,,', 'guys', 'welcome', 'to', 'python', 'session']\n"
     ]
    }
   ],
   "source": [
    "s=['hi,, guys welcome to python session']\n",
    "e=[]\n",
    "for i in s:\n",
    "    for j in i.split():\n",
    "        e.append(j)\n",
    "print(e)\n",
    "        \n",
    "    "
   ]
  },
  {
   "cell_type": "code",
   "execution_count": 2,
   "metadata": {},
   "outputs": [
    {
     "name": "stdout",
     "output_type": "stream",
     "text": [
      "['hi,,', 'guys', 'welcome', 'to', 'python', 'session']\n"
     ]
    }
   ],
   "source": [
    "## by using lc\n",
    "s=['hi,, guys welcome to python session']\n",
    "l=[j for i in s for j in i.split()]\n",
    "print(l)"
   ]
  },
  {
   "cell_type": "code",
   "execution_count": null,
   "metadata": {},
   "outputs": [],
   "source": [
    "### iterators:\n",
    "    - iter()\n",
    "    - next()"
   ]
  },
  {
   "cell_type": "code",
   "execution_count": 3,
   "metadata": {},
   "outputs": [
    {
     "name": "stdout",
     "output_type": "stream",
     "text": [
      "1 2 3 4 5 6 7 8 9 "
     ]
    }
   ],
   "source": [
    "for i in range(1,10):\n",
    "    print(i,end=\" \")"
   ]
  },
  {
   "cell_type": "code",
   "execution_count": 6,
   "metadata": {},
   "outputs": [
    {
     "name": "stdout",
     "output_type": "stream",
     "text": [
      "python\n"
     ]
    }
   ],
   "source": [
    "s=\"python\"\n",
    "print(s)"
   ]
  },
  {
   "cell_type": "code",
   "execution_count": 9,
   "metadata": {
    "collapsed": true
   },
   "outputs": [
    {
     "name": "stdout",
     "output_type": "stream",
     "text": [
      "p\n",
      "y\n",
      "t\n",
      "h\n",
      "o\n",
      "n\n"
     ]
    }
   ],
   "source": [
    "b=iter(s)\n",
    "print(next(b))\n",
    "print(next(b))\n",
    "print(next(b))\n",
    "print(next(b))\n",
    "print(next(b))\n",
    "print(next(b))\n"
   ]
  },
  {
   "cell_type": "code",
   "execution_count": 12,
   "metadata": {
    "collapsed": true
   },
   "outputs": [
    {
     "name": "stdout",
     "output_type": "stream",
     "text": [
      "C\n",
      "C++\n",
      "JAVA\n"
     ]
    }
   ],
   "source": [
    "n=['C','C++','JAVA']\n",
    "c=iter(n)\n",
    "print(next(c))\n",
    "print(next(c))\n",
    "print(next(c))"
   ]
  },
  {
   "cell_type": "code",
   "execution_count": 14,
   "metadata": {
    "collapsed": true
   },
   "outputs": [
    {
     "name": "stdout",
     "output_type": "stream",
     "text": [
      "1\n",
      "2\n",
      "3\n",
      "4\n",
      "5\n"
     ]
    }
   ],
   "source": [
    "n=[1,2,3,4,5]\n",
    "c=iter(n)\n",
    "print(next(c))\n",
    "print(next(c))\n",
    "print(next(c))\n",
    "print(next(c))\n",
    "print(next(c))"
   ]
  },
  {
   "cell_type": "code",
   "execution_count": null,
   "metadata": {},
   "outputs": [],
   "source": [
    "## Generators:\n",
    "    - instead of return here we are use \"yield\" keyword\n",
    "    - in generators we can create iterators also"
   ]
  },
  {
   "cell_type": "code",
   "execution_count": 16,
   "metadata": {},
   "outputs": [
    {
     "name": "stdout",
     "output_type": "stream",
     "text": [
      "1\n",
      "2\n",
      "3\n"
     ]
    }
   ],
   "source": [
    "def Generator():\n",
    "    yield 1\n",
    "    yield 2\n",
    "    yield 3\n",
    "for i in Generator():\n",
    "    print(i)"
   ]
  },
  {
   "cell_type": "code",
   "execution_count": null,
   "metadata": {},
   "outputs": [],
   "source": [
    "## map()\n",
    "    - it does not return any object\n",
    "    - syntax:\n",
    "        map(function,iterable)"
   ]
  },
  {
   "cell_type": "code",
   "execution_count": 19,
   "metadata": {},
   "outputs": [
    {
     "name": "stdout",
     "output_type": "stream",
     "text": [
      "[2, 4, 6, 8, 10, 12, 14, 16, 18]\n"
     ]
    }
   ],
   "source": [
    "### example\n",
    "#### (1,5)-->1,2,3,4->1+1=2,4,6,8\n",
    "\n",
    "def Add(n):\n",
    "    return n+n\n",
    "\n",
    "li=list(map(Add,range(1,10)))\n",
    "print(li)"
   ]
  },
  {
   "cell_type": "code",
   "execution_count": 20,
   "metadata": {},
   "outputs": [
    {
     "name": "stdout",
     "output_type": "stream",
     "text": [
      "(2, 4, 6, 8, 10, 12, 14, 16, 18)\n"
     ]
    }
   ],
   "source": [
    "def Add(n):\n",
    "    return n+n\n",
    "\n",
    "li=tuple(map(Add,range(1,10)))\n",
    "print(li)"
   ]
  },
  {
   "cell_type": "code",
   "execution_count": 21,
   "metadata": {},
   "outputs": [
    {
     "name": "stdout",
     "output_type": "stream",
     "text": [
      "{2, 4, 6, 8, 10, 12, 14, 16, 18}\n"
     ]
    }
   ],
   "source": [
    "def Add(n):\n",
    "    return n+n\n",
    "\n",
    "li=set(map(Add,range(1,10)))\n",
    "print(li)"
   ]
  },
  {
   "cell_type": "code",
   "execution_count": null,
   "metadata": {},
   "outputs": [],
   "source": [
    "### filter:\n",
    "    - it returns boolean values like either True and False\n",
    "    - syntax:\n",
    "        filter(function,iterable)"
   ]
  },
  {
   "cell_type": "code",
   "execution_count": 4,
   "metadata": {
    "collapsed": true
   },
   "outputs": [
    {
     "name": "stdout",
     "output_type": "stream",
     "text": [
      "[2, 3, 5, 7, 11, 13, 17, 19, 23, 29, 31, 37, 41, 43, 47, 53, 59, 61, 67, 71, 73, 79, 83, 89, 97]\n"
     ]
    }
   ],
   "source": [
    "def PrimeRange(n):\n",
    "    if n<2:\n",
    "        return False\n",
    "    for i in range(2,n//2+1):\n",
    "        if n%i==0:\n",
    "            return False\n",
    "    return True\n",
    "\n",
    "lb,ub=1,100\n",
    "li=list(filter(PrimeRange,range(lb,ub)))\n",
    "print(li)"
   ]
  },
  {
   "cell_type": "code",
   "execution_count": 18,
   "metadata": {},
   "outputs": [
    {
     "name": "stdout",
     "output_type": "stream",
     "text": [
      "{1, 2, 67, 34, 89}\n"
     ]
    }
   ],
   "source": [
    "### li=['a','b',1,2,3]\n",
    "### [1,2,3]\n",
    "\n",
    "l=['a','b','c',1,2,34,89,67,'jhkjh']\n",
    "def Digit(d):\n",
    "    d=str(d)\n",
    "    if d.isdigit():\n",
    "        return True\n",
    "    return False\n",
    "\n",
    "s=set(filter(Digit,l))\n",
    "print(s)"
   ]
  },
  {
   "cell_type": "code",
   "execution_count": 10,
   "metadata": {
    "collapsed": true
   },
   "outputs": [
    {
     "data": {
      "text/plain": [
       "['__add__',\n",
       " '__class__',\n",
       " '__contains__',\n",
       " '__delattr__',\n",
       " '__dir__',\n",
       " '__doc__',\n",
       " '__eq__',\n",
       " '__format__',\n",
       " '__ge__',\n",
       " '__getattribute__',\n",
       " '__getitem__',\n",
       " '__getnewargs__',\n",
       " '__gt__',\n",
       " '__hash__',\n",
       " '__init__',\n",
       " '__init_subclass__',\n",
       " '__iter__',\n",
       " '__le__',\n",
       " '__len__',\n",
       " '__lt__',\n",
       " '__mod__',\n",
       " '__mul__',\n",
       " '__ne__',\n",
       " '__new__',\n",
       " '__reduce__',\n",
       " '__reduce_ex__',\n",
       " '__repr__',\n",
       " '__rmod__',\n",
       " '__rmul__',\n",
       " '__setattr__',\n",
       " '__sizeof__',\n",
       " '__str__',\n",
       " '__subclasshook__',\n",
       " 'capitalize',\n",
       " 'casefold',\n",
       " 'center',\n",
       " 'count',\n",
       " 'encode',\n",
       " 'endswith',\n",
       " 'expandtabs',\n",
       " 'find',\n",
       " 'format',\n",
       " 'format_map',\n",
       " 'index',\n",
       " 'isalnum',\n",
       " 'isalpha',\n",
       " 'isascii',\n",
       " 'isdecimal',\n",
       " 'isdigit',\n",
       " 'isidentifier',\n",
       " 'islower',\n",
       " 'isnumeric',\n",
       " 'isprintable',\n",
       " 'isspace',\n",
       " 'istitle',\n",
       " 'isupper',\n",
       " 'join',\n",
       " 'ljust',\n",
       " 'lower',\n",
       " 'lstrip',\n",
       " 'maketrans',\n",
       " 'partition',\n",
       " 'replace',\n",
       " 'rfind',\n",
       " 'rindex',\n",
       " 'rjust',\n",
       " 'rpartition',\n",
       " 'rsplit',\n",
       " 'rstrip',\n",
       " 'split',\n",
       " 'splitlines',\n",
       " 'startswith',\n",
       " 'strip',\n",
       " 'swapcase',\n",
       " 'title',\n",
       " 'translate',\n",
       " 'upper',\n",
       " 'zfill']"
      ]
     },
     "execution_count": 10,
     "metadata": {},
     "output_type": "execute_result"
    }
   ],
   "source": [
    "dir(str)"
   ]
  },
  {
   "cell_type": "code",
   "execution_count": null,
   "metadata": {},
   "outputs": [],
   "source": [
    "#### str='adkfjhjjhjsNCNCNXCLNC@#$%1234'\n",
    "#### small letter count=?\n",
    "#### capital letter count=?\n",
    "#### digits count=?\n",
    "## special characters count=?"
   ]
  },
  {
   "cell_type": "code",
   "execution_count": 17,
   "metadata": {},
   "outputs": [
    {
     "data": {
      "text/plain": [
       "True"
      ]
     },
     "execution_count": 17,
     "metadata": {},
     "output_type": "execute_result"
    }
   ],
   "source": [
    "s='123345'\n",
    "s.isdigit()"
   ]
  },
  {
   "cell_type": "markdown",
   "metadata": {},
   "source": [
    "### lambda\n",
    "    - anonymous function(without function name)\n",
    "     syntax:\n",
    "            lambda arguments:expression\n",
    "            lambda a,b:a*b\n",
    "    "
   ]
  },
  {
   "cell_type": "code",
   "execution_count": 4,
   "metadata": {},
   "outputs": [
    {
     "data": {
      "text/plain": [
       "16"
      ]
     },
     "execution_count": 4,
     "metadata": {},
     "output_type": "execute_result"
    }
   ],
   "source": [
    "l=lambda a:a**2   ## single argument\n",
    "l(4)"
   ]
  },
  {
   "cell_type": "code",
   "execution_count": 5,
   "metadata": {},
   "outputs": [
    {
     "data": {
      "text/plain": [
       "6"
      ]
     },
     "execution_count": 5,
     "metadata": {},
     "output_type": "execute_result"
    }
   ],
   "source": [
    "l=lambda a,b:a*b\n",
    "l(2,3)"
   ]
  },
  {
   "cell_type": "code",
   "execution_count": 6,
   "metadata": {},
   "outputs": [
    {
     "data": {
      "text/plain": [
       "16"
      ]
     },
     "execution_count": 6,
     "metadata": {},
     "output_type": "execute_result"
    }
   ],
   "source": [
    "def Square(n):\n",
    "    return n**2\n",
    "l=lambda n:n**2   ## single argument\n",
    "l(4)"
   ]
  },
  {
   "cell_type": "code",
   "execution_count": 9,
   "metadata": {
    "collapsed": true
   },
   "outputs": [
    {
     "name": "stdout",
     "output_type": "stream",
     "text": [
      "[1, 4, 9, 16, 25, 36, 49, 64, 81]\n"
     ]
    }
   ],
   "source": [
    "l=list(map(lambda x:x**2,range(1,10)))\n",
    "print(l)"
   ]
  },
  {
   "cell_type": "code",
   "execution_count": 10,
   "metadata": {
    "collapsed": true
   },
   "outputs": [
    {
     "name": "stdout",
     "output_type": "stream",
     "text": [
      "[100, 400, 900, 1600]\n"
     ]
    }
   ],
   "source": [
    "l=list(map(lambda x:x**2,[10,20,30,40]))\n",
    "print(l)"
   ]
  },
  {
   "cell_type": "code",
   "execution_count": 12,
   "metadata": {
    "collapsed": true
   },
   "outputs": [
    {
     "name": "stdout",
     "output_type": "stream",
     "text": [
      "[10, 12, 14, 16, 18, 20, 22, 24, 26, 28, 30, 32, 34, 36, 38, 40, 42, 44, 46, 48, 50, 52, 54, 56, 58, 60, 62, 64, 66, 68, 70, 72, 74, 76, 78, 80, 82, 84, 86, 88, 90, 92, 94, 96, 98]\n"
     ]
    }
   ],
   "source": [
    "even= lambda x:x%2==0\n",
    "l=list(filter(even,range(10,100)))\n",
    "print(l)\n"
   ]
  },
  {
   "cell_type": "code",
   "execution_count": null,
   "metadata": {},
   "outputs": [],
   "source": [
    "#### str='adkfjhjjhjsNCNCNXCLNC@#$%1234'\n",
    "#### small letter count=?\n",
    "#### capital letter count=?\n",
    "#### digits count=?\n",
    "## special characters count=?"
   ]
  },
  {
   "cell_type": "code",
   "execution_count": 25,
   "metadata": {
    "collapsed": true
   },
   "outputs": [
    {
     "name": "stdout",
     "output_type": "stream",
     "text": [
      "enter your stringASDFGAASDNKDNSasdbsldbcj`23443@\n",
      "total small letters count is: 10\n",
      "total capital letters count is: 14\n",
      "total digits letters count is: 5\n",
      "total special  letters count is: 2\n"
     ]
    }
   ],
   "source": [
    "s=input(\"enter your string\")\n",
    "sm=cap=d=spe=0\n",
    "for i in s:\n",
    "    if i.islower():\n",
    "        sm=sm+1\n",
    "    elif i.isupper():\n",
    "        cap=cap+1\n",
    "    elif i.isdigit():\n",
    "        d=d+1\n",
    "    else:\n",
    "        spe=spe+1 \n",
    "print(\"total small letters count is:\",sm)\n",
    "print(\"total capital letters count is:\",cap)\n",
    "print(\"total digits letters count is:\",d)\n",
    "print(\"total special  letters count is:\",spe)\n",
    "\n",
    "\n",
    "    "
   ]
  },
  {
   "cell_type": "code",
   "execution_count": 16,
   "metadata": {
    "collapsed": true
   },
   "outputs": [
    {
     "data": {
      "text/plain": [
       "['__add__',\n",
       " '__class__',\n",
       " '__contains__',\n",
       " '__delattr__',\n",
       " '__dir__',\n",
       " '__doc__',\n",
       " '__eq__',\n",
       " '__format__',\n",
       " '__ge__',\n",
       " '__getattribute__',\n",
       " '__getitem__',\n",
       " '__getnewargs__',\n",
       " '__gt__',\n",
       " '__hash__',\n",
       " '__init__',\n",
       " '__init_subclass__',\n",
       " '__iter__',\n",
       " '__le__',\n",
       " '__len__',\n",
       " '__lt__',\n",
       " '__mod__',\n",
       " '__mul__',\n",
       " '__ne__',\n",
       " '__new__',\n",
       " '__reduce__',\n",
       " '__reduce_ex__',\n",
       " '__repr__',\n",
       " '__rmod__',\n",
       " '__rmul__',\n",
       " '__setattr__',\n",
       " '__sizeof__',\n",
       " '__str__',\n",
       " '__subclasshook__',\n",
       " 'capitalize',\n",
       " 'casefold',\n",
       " 'center',\n",
       " 'count',\n",
       " 'encode',\n",
       " 'endswith',\n",
       " 'expandtabs',\n",
       " 'find',\n",
       " 'format',\n",
       " 'format_map',\n",
       " 'index',\n",
       " 'isalnum',\n",
       " 'isalpha',\n",
       " 'isascii',\n",
       " 'isdecimal',\n",
       " 'isdigit',\n",
       " 'isidentifier',\n",
       " 'islower',\n",
       " 'isnumeric',\n",
       " 'isprintable',\n",
       " 'isspace',\n",
       " 'istitle',\n",
       " 'isupper',\n",
       " 'join',\n",
       " 'ljust',\n",
       " 'lower',\n",
       " 'lstrip',\n",
       " 'maketrans',\n",
       " 'partition',\n",
       " 'replace',\n",
       " 'rfind',\n",
       " 'rindex',\n",
       " 'rjust',\n",
       " 'rpartition',\n",
       " 'rsplit',\n",
       " 'rstrip',\n",
       " 'split',\n",
       " 'splitlines',\n",
       " 'startswith',\n",
       " 'strip',\n",
       " 'swapcase',\n",
       " 'title',\n",
       " 'translate',\n",
       " 'upper',\n",
       " 'zfill']"
      ]
     },
     "execution_count": 16,
     "metadata": {},
     "output_type": "execute_result"
    }
   ],
   "source": [
    "dir(str)"
   ]
  },
  {
   "cell_type": "code",
   "execution_count": 19,
   "metadata": {},
   "outputs": [
    {
     "name": "stdout",
     "output_type": "stream",
     "text": [
      "0\n"
     ]
    }
   ],
   "source": [
    "sm=cap=d=spe=0\n",
    "print(cap)"
   ]
  },
  {
   "cell_type": "code",
   "execution_count": 20,
   "metadata": {},
   "outputs": [],
   "source": [
    "s,b,v,n=10,20,30,40"
   ]
  },
  {
   "cell_type": "code",
   "execution_count": 22,
   "metadata": {},
   "outputs": [
    {
     "data": {
      "text/plain": [
       "40"
      ]
     },
     "execution_count": 22,
     "metadata": {},
     "output_type": "execute_result"
    }
   ],
   "source": [
    "n"
   ]
  },
  {
   "cell_type": "code",
   "execution_count": null,
   "metadata": {},
   "outputs": [],
   "source": []
  }
 ],
 "metadata": {
  "kernelspec": {
   "display_name": "Python 3",
   "language": "python",
   "name": "python3"
  },
  "language_info": {
   "codemirror_mode": {
    "name": "ipython",
    "version": 3
   },
   "file_extension": ".py",
   "mimetype": "text/x-python",
   "name": "python",
   "nbconvert_exporter": "python",
   "pygments_lexer": "ipython3",
   "version": "3.7.3"
  }
 },
 "nbformat": 4,
 "nbformat_minor": 2
}
